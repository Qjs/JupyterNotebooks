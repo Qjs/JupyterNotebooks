{
 "cells": [
  {
   "cell_type": "markdown",
   "metadata": {},
   "source": [
    "# Fast Prime Search Algorithm\n",
    "\n",
    "This is a simple prime sieve algorithm that has some quality of life features for speed improvement. I think it's useful to keep around."
   ]
  },
  {
   "cell_type": "code",
   "execution_count": 56,
   "metadata": {
    "tags": []
   },
   "outputs": [
    {
     "name": "stdout",
     "output_type": "stream",
     "text": [
      "Run time: 0.02110910415649414\n",
      "Total number of primes found: 168\n",
      "Last ten of the primes found:\n",
      "[  2   3   5   7  11  13  17  19  23  29  31  37  41  43  47  53  59  61\n",
      "  67  71  73  79  83  89  97 101 103 107 109 113 127 131 137 139 149 151\n",
      " 157 163 167 173 179 181 191 193 197 199 211 223 227 229 233 239 241 251\n",
      " 257 263 269 271 277 281 283 293 307 311 313 317 331 337 347 349 353 359\n",
      " 367 373 379 383 389 397 401 409 419 421 431 433 439 443 449 457 461 463\n",
      " 467 479 487 491 499 503 509 521 523 541 547 557 563 569 571 577 587 593\n",
      " 599 601 607 613 617 619 631 641 643 647 653 659 661 673 677 683 691 701\n",
      " 709 719 727 733 739 743 751 757 761 769 773 787 797 809 811 821 823 827\n",
      " 829 839 853 857 859 863 877 881 883 887 907 911 919 929 937 941 947 953\n",
      " 967 971 977 983 991 997]\n"
     ]
    }
   ],
   "source": [
    "import time\n",
    "import numpy as np\n",
    "# set upper limit\n",
    "upper_limit = 1000\n",
    "# init empty primes list\n",
    "primes_found = np.array([],dtype=int)\n",
    "#primes_found = []\n",
    "# set start time\n",
    "time_start = time.time()\n",
    "\n",
    "# loop on n from 2 to upper limit\n",
    "for n in range(2,upper_limit+1):\n",
    "\n",
    "    # set sqrt(n)\n",
    "    sqrt_of_n = n**0.5\n",
    "    # set \"checked all\" flag to False    \n",
    "    checked_all = False\n",
    "    # set \"still prime\" flag to True\n",
    "    still_prime = True\n",
    "\n",
    "    # loop on p from primes found list\n",
    "    for p in primes_found:\n",
    "\n",
    "        # is \"still prime\" flag True and we have not checked all divisors?\n",
    "        if still_prime and not checked_all:\n",
    "            # have we checked all divisors up to sqrt(n)\n",
    "            if p > sqrt_of_n:\n",
    "                # yes: set \"check all\" flag to True\n",
    "                checked_all = True\n",
    "            # is n divisible by p ?\n",
    "            elif n%p == 0:\n",
    "                # yes: set \"still prime\" flag to False\n",
    "                still_prime = False\n",
    "        # otherwise...\n",
    "        else:\n",
    "            # ...exit from the loop\n",
    "            break\n",
    "\n",
    "    # is \"still prime\" flag True ?\n",
    "    if still_prime:\n",
    "        # yes: append n to the primes list\n",
    "        #primes_found.append(n)\n",
    "        primes_found = np.append(primes_found,n)\n",
    "\n",
    "# set end time\n",
    "time_end = time.time()\n",
    "\n",
    "# output execution time\n",
    "print( \"Run time:\", time_end-time_start )\n",
    "# output primes found\n",
    "print( \"Total number of primes found:\", len(primes_found) )\n",
    "# output all within 100\n",
    "if upper_limit<101:\n",
    "    print( \"Primes found:\" )\n",
    "    print( primes_found )\n",
    "# or the last ten for larger upper limit\n",
    "else:\n",
    "    print( \"Last ten of the primes found:\" )\n",
    "    print( primes_found[:] )"
   ]
  },
  {
   "cell_type": "code",
   "execution_count": 57,
   "metadata": {},
   "outputs": [
    {
     "name": "stdout",
     "output_type": "stream",
     "text": [
      "Run time: 0.0033752918243408203\n",
      "Total number of primes found: 168\n",
      "Last ten of the primes found:\n",
      "[2, 3, 5, 7, 11, 13, 17, 19, 23, 29, 31, 37, 41, 43, 47, 53, 59, 61, 67, 71, 73, 79, 83, 89, 97, 101, 103, 107, 109, 113, 127, 131, 137, 139, 149, 151, 157, 163, 167, 173, 179, 181, 191, 193, 197, 199, 211, 223, 227, 229, 233, 239, 241, 251, 257, 263, 269, 271, 277, 281, 283, 293, 307, 311, 313, 317, 331, 337, 347, 349, 353, 359, 367, 373, 379, 383, 389, 397, 401, 409, 419, 421, 431, 433, 439, 443, 449, 457, 461, 463, 467, 479, 487, 491, 499, 503, 509, 521, 523, 541, 547, 557, 563, 569, 571, 577, 587, 593, 599, 601, 607, 613, 617, 619, 631, 641, 643, 647, 653, 659, 661, 673, 677, 683, 691, 701, 709, 719, 727, 733, 739, 743, 751, 757, 761, 769, 773, 787, 797, 809, 811, 821, 823, 827, 829, 839, 853, 857, 859, 863, 877, 881, 883, 887, 907, 911, 919, 929, 937, 941, 947, 953, 967, 971, 977, 983, 991, 997]\n"
     ]
    }
   ],
   "source": [
    "import time\n",
    "import numpy as np\n",
    "# set upper limit\n",
    "upper_limit = 1000\n",
    "# init empty primes list\n",
    "#primes_found = np.array([],dtype=int)\n",
    "primes_found = []\n",
    "# set start time\n",
    "time_start = time.time()\n",
    "\n",
    "# loop on n from 2 to upper limit\n",
    "for n in range(2,upper_limit+1):\n",
    "\n",
    "    # set sqrt(n)\n",
    "    sqrt_of_n = n**0.5\n",
    "    # set \"checked all\" flag to False    \n",
    "    checked_all = False\n",
    "    # set \"still prime\" flag to True\n",
    "    still_prime = True\n",
    "\n",
    "    # loop on p from primes found list\n",
    "    for p in primes_found:\n",
    "\n",
    "        # is \"still prime\" flag True and we have not checked all divisors?\n",
    "        if still_prime and not checked_all:\n",
    "            # have we checked all divisors up to sqrt(n)\n",
    "            if p > sqrt_of_n:\n",
    "                # yes: set \"check all\" flag to True\n",
    "                checked_all = True\n",
    "            # is n divisible by p ?\n",
    "            elif n%p == 0:\n",
    "                # yes: set \"still prime\" flag to False\n",
    "                still_prime = False\n",
    "        # otherwise...\n",
    "        else:\n",
    "            # ...exit from the loop\n",
    "            break\n",
    "\n",
    "    # is \"still prime\" flag True ?\n",
    "    if still_prime:\n",
    "        # yes: append n to the primes list\n",
    "        primes_found.append(n)\n",
    "        #primes_found = np.append(primes_found,n)\n",
    "\n",
    "# set end time\n",
    "time_end = time.time()\n",
    "\n",
    "# output execution time\n",
    "print( \"Run time:\", time_end-time_start )\n",
    "# output primes found\n",
    "print( \"Total number of primes found:\", len(primes_found) )\n",
    "# output all within 100\n",
    "if upper_limit<101:\n",
    "    print( \"Primes found:\" )\n",
    "    print( primes_found )\n",
    "# or the last ten for larger upper limit\n",
    "else:\n",
    "    print( \"Last ten of the primes found:\" )\n",
    "    print( primes_found[:] )"
   ]
  },
  {
   "cell_type": "code",
   "execution_count": 55,
   "metadata": {},
   "outputs": [
    {
     "data": {
      "text/plain": [
       "4096"
      ]
     },
     "execution_count": 55,
     "metadata": {},
     "output_type": "execute_result"
    }
   ],
   "source": []
  },
  {
   "cell_type": "code",
   "execution_count": null,
   "metadata": {},
   "outputs": [],
   "source": []
  }
 ],
 "metadata": {
  "kernelspec": {
   "display_name": "Python 3",
   "language": "python",
   "name": "python3"
  },
  "language_info": {
   "codemirror_mode": {
    "name": "ipython",
    "version": 3
   },
   "file_extension": ".py",
   "mimetype": "text/x-python",
   "name": "python",
   "nbconvert_exporter": "python",
   "pygments_lexer": "ipython3",
   "version": "3.7.9"
  }
 },
 "nbformat": 4,
 "nbformat_minor": 4
}
