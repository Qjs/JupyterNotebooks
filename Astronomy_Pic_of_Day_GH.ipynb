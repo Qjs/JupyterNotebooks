{
 "cells": [
  {
   "cell_type": "markdown",
   "metadata": {},
   "source": [
    "## NASA APOD Set as Wallpaper Script\n",
    "\n",
    "\n",
    "From: [Astornomy Picture of the Day (APOD)](https://apod.nasa.gov/apod/astropix.html)\n",
    "\n",
    "Get key from: [api.nasa.gov](https://api.nasa.gov/).\n",
    "\n"
   ]
  },
  {
   "cell_type": "code",
   "execution_count": 16,
   "metadata": {},
   "outputs": [],
   "source": [
    "#Imports\n",
    "import requests\n",
    "import datetime\n",
    "import urllib.request\n",
    "import ctypes\n",
    "from PIL import Image\n",
    "import os"
   ]
  },
  {
   "cell_type": "code",
   "execution_count": null,
   "metadata": {},
   "outputs": [],
   "source": [
    "#API key generated from api.nasa.gov\n",
    "key =  'INSERT_KEY_HERE'\n",
    "#Current Date\n",
    "now = datetime.datetime.today()\n",
    "date = now.strftime(\"%Y-%m-%d\") \n",
    "url = 'https://api.nasa.gov/planetary/apod'\n",
    "\n",
    "#I always make sure I am actually certain what day it is\n",
    "print(now)"
   ]
  },
  {
   "cell_type": "code",
   "execution_count": 13,
   "metadata": {},
   "outputs": [],
   "source": [
    "param = {'api_key':key,\"date\":date}"
   ]
  },
  {
   "cell_type": "code",
   "execution_count": null,
   "metadata": {},
   "outputs": [],
   "source": [
    "resp = requests.get(url,params=param).json()\n",
    "apod_url = resp['hdurl']\n",
    "\n",
    "urllib.request.urlretrieve(apod_url, \"./apod.jpg\")\n",
    "\n",
    "print(resp[\"title\"])\n",
    "print(resp[\"date\"])\n",
    "print(resp[\"explanation\"])\n",
    "print(apod_url)"
   ]
  },
  {
   "cell_type": "code",
   "execution_count": null,
   "metadata": {},
   "outputs": [],
   "source": [
    "SPI_SETDESKWALLPAPER = 20\n",
    "SPIF_UPDATEINIFILE   = 0x2\n",
    "path = os.getcwd()\n",
    "path = os.path.join(path,'apod.bmp')\n",
    "print(path)\n",
    "ctypes.windll.user32.SystemParametersInfoW(SPI_SETDESKWALLPAPER, 0, path, SPIF_UPDATEINIFILE)"
   ]
  }
 ],
 "metadata": {
  "kernelspec": {
   "display_name": "Python 3",
   "language": "python",
   "name": "python3"
  },
  "language_info": {
   "codemirror_mode": {
    "name": "ipython",
    "version": 3
   },
   "file_extension": ".py",
   "mimetype": "text/x-python",
   "name": "python",
   "nbconvert_exporter": "python",
   "pygments_lexer": "ipython3",
   "version": "3.8.5"
  }
 },
 "nbformat": 4,
 "nbformat_minor": 4
}
