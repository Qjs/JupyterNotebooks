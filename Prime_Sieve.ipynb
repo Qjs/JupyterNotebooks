{
 "cells": [
  {
   "cell_type": "markdown",
   "metadata": {},
   "source": [
    "# Fast Prime Search Algorithm\n",
    "\n",
    "This is a simple prime sieve algorithm that has some quality of life features for speed improvement. I think it's useful to keep around."
   ]
  },
  {
   "cell_type": "code",
   "execution_count": 1,
   "metadata": {
    "tags": []
   },
   "outputs": [
    {
     "output_type": "stream",
     "name": "stdout",
     "text": "Run time: 0.01599860191345215\nTotal number of primes found: 1229\nLast ten of the primes found:\n[9887, 9901, 9907, 9923, 9929, 9931, 9941, 9949, 9967]\n"
    }
   ],
   "source": [
    "import time\n",
    "\n",
    "# set upper limit\n",
    "upper_limit = 10000\n",
    "# init empty primes list\n",
    "primes_found = []\n",
    "\n",
    "# set start time\n",
    "time_start = time.time()\n",
    "\n",
    "# loop on n from 2 to upper limit\n",
    "for n in range(2,upper_limit+1):\n",
    "\n",
    "    # set sqrt(n)\n",
    "    sqrt_of_n = n**0.5\n",
    "    # set \"checked all\" flag to False\n",
    "    checked_all = False\n",
    "    # set \"still prime\" flag to True\n",
    "    still_prime = True\n",
    "\n",
    "    # loop on p from primes found list\n",
    "    for p in primes_found:\n",
    "\n",
    "        # is \"still prime\" flag True and we have not checked all divisors?\n",
    "        if still_prime and not checked_all:\n",
    "            # have we checked all divisors up to sqrt(n)\n",
    "            if p > sqrt_of_n:\n",
    "                # yes: set \"check all\" flag to True\n",
    "                checked_all = True\n",
    "            # is n divisible by p ?\n",
    "            elif n%p == 0:\n",
    "                # yes: set \"still prime\" flag to False\n",
    "                still_prime = False\n",
    "        # otherwise...\n",
    "        else:\n",
    "            # ...exit from the loop\n",
    "            break\n",
    "\n",
    "    # is \"still prime\" flag True ?\n",
    "    if still_prime:\n",
    "        # yes: append n to the primes list\n",
    "        primes_found.append(n)\n",
    "\n",
    "# set end time\n",
    "time_end = time.time()\n",
    "\n",
    "# output execution time\n",
    "print( \"Run time:\", time_end-time_start )\n",
    "# output primes found\n",
    "print( \"Total number of primes found:\", len(primes_found) )\n",
    "# output all within 100\n",
    "if upper_limit<101:\n",
    "    print( \"Primes found:\" )\n",
    "    print( primes_found )\n",
    "# or the last ten for larger upper limit\n",
    "else:\n",
    "    print( \"Last ten of the primes found:\" )\n",
    "    print( primes_found[-10:-1] )"
   ]
  },
  {
   "cell_type": "code",
   "execution_count": null,
   "metadata": {},
   "outputs": [],
   "source": []
  }
 ],
 "metadata": {
  "kernelspec": {
   "display_name": "Python 3",
   "language": "python",
   "name": "python3"
  },
  "language_info": {
   "codemirror_mode": {
    "name": "ipython",
    "version": 3
   },
   "file_extension": ".py",
   "mimetype": "text/x-python",
   "name": "python",
   "nbconvert_exporter": "python",
   "pygments_lexer": "ipython3",
   "version": "3.7.7-final"
  }
 },
 "nbformat": 4,
 "nbformat_minor": 2
}